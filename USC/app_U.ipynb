{
 "cells": [
  {
   "cell_type": "code",
   "execution_count": 1,
   "metadata": {},
   "outputs": [
    {
     "name": "stdout",
     "output_type": "stream",
     "text": [
      "變數名稱：\n",
      "['country', 'continent', 'year', 'lifeExp', 'pop', 'gdpPercap']\n",
      "這個摘錄版本僅有 1704 個觀測值、6 個變數，涵括 1952 至 2007 年中每 5 年、142 個國家的快照\n"
     ]
    }
   ],
   "source": [
    "import pandas as pd\n",
    "\n",
    "csv_url = \"https://storage.googleapis.com/learn_pd_like_tidyverse/gapminder.csv\"\n",
    "gapminder = pd.read_csv(csv_url)\n",
    "nrows, ncols = gapminder.shape\n",
    "min_year = gapminder[\"year\"].min()\n",
    "max_year = gapminder[\"year\"].max()\n",
    "year_interval = gapminder[\"year\"].unique()[1] - gapminder[\"year\"].unique()[0]\n",
    "ncountries = gapminder[\"country\"].nunique()\n",
    "msg = \"這個摘錄版本僅有 {} 個觀測值、{} 個變數，涵括 {} 至 {} 年中每 {} 年、{} 個國家的快照\"\n",
    "\n",
    "print(\"變數名稱：\")\n",
    "print(list(gapminder.columns))\n",
    "print(msg.format(nrows, ncols, min_year, max_year, year_interval, ncountries))"
   ]
  },
  {
   "cell_type": "code",
   "execution_count": 7,
   "metadata": {},
   "outputs": [],
   "source": [
    "#pip install dash==0.26.5"
   ]
  },
  {
   "cell_type": "code",
   "execution_count": 5,
   "metadata": {},
   "outputs": [],
   "source": [
    "#pip install dash-html-components==0.12.0"
   ]
  },
  {
   "cell_type": "code",
   "execution_count": 6,
   "metadata": {},
   "outputs": [],
   "source": [
    "#pip install dash-core-components==0.28.0"
   ]
  },
  {
   "cell_type": "code",
   "execution_count": null,
   "metadata": {},
   "outputs": [],
   "source": []
  }
 ],
 "metadata": {
  "kernelspec": {
   "display_name": "Python 3",
   "language": "python",
   "name": "python3"
  },
  "language_info": {
   "codemirror_mode": {
    "name": "ipython",
    "version": 3
   },
   "file_extension": ".py",
   "mimetype": "text/x-python",
   "name": "python",
   "nbconvert_exporter": "python",
   "pygments_lexer": "ipython3",
   "version": "3.8.5"
  }
 },
 "nbformat": 4,
 "nbformat_minor": 4
}
