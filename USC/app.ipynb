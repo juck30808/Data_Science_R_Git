{
 "cells": [
  {
   "cell_type": "code",
   "execution_count": null,
   "metadata": {},
   "outputs": [],
   "source": [
    "import dash\n",
    "import dash_core_components as dcc\n",
    "import dash_html_components as html\n",
    "import math\n",
    "import pandas as pd\n",
    "import plotly.graph_objs as go\n",
    "\n",
    "app = dash.Dash()\n",
    "\n",
    "df = pd.read_csv(\n",
    "    \"https://storage.googleapis.com/learn_pd_like_tidyverse/gapminder.csv\")\n",
    "bubble_size = [math.sqrt(p / math.pi) for p in df[\"pop\"].values]\n",
    "df['size'] = bubble_size\n",
    "sizeref = 2*max(df['size'])/(100**2)\n",
    "\n",
    "app.layout = html.Div([\n",
    "    html.H2(children='A Gapminder Replica with Dash'),\n",
    "    dcc.Graph(\n",
    "        id='gapminder',\n",
    "        figure={\n",
    "            'data': [\n",
    "                go.Scatter(\n",
    "                    x=df[df['continent'] == i]['gdpPercap'],\n",
    "                    y=df[df['continent'] == i]['lifeExp'],\n",
    "                    text=df[df['continent'] == i]['country'],\n",
    "                    mode='markers',\n",
    "                    opacity=0.7,\n",
    "                    marker={\n",
    "                        'size': df[df['continent'] == i]['size'],\n",
    "                        'line': {'width': 0.5, 'color': 'white'},\n",
    "                        'sizeref': sizeref,\n",
    "                        'symbol': 'circle',\n",
    "                        'sizemode': 'area'\n",
    "                    },\n",
    "                    name=i\n",
    "                ) for i in df.continent.unique()\n",
    "            ],\n",
    "            'layout': go.Layout(\n",
    "                xaxis={'type': 'log', 'title': 'GDP Per Capita'},\n",
    "                yaxis={'title': 'Life Expectancy'},\n",
    "                margin={'l': 40, 'b': 40, 't': 10, 'r': 10},\n",
    "                legend={'x': 0, 'y': 1},\n",
    "                hovermode='closest'\n",
    "            )\n",
    "        }\n",
    "    )\n",
    "])\n",
    "\n",
    "if __name__ == '__main__':\n",
    "    app.run_server(debug=True)"
   ]
  }
 ],
 "metadata": {
  "kernelspec": {
   "display_name": "Python 3",
   "language": "python",
   "name": "python3"
  },
  "language_info": {
   "codemirror_mode": {
    "name": "ipython",
    "version": 3
   },
   "file_extension": ".py",
   "mimetype": "text/x-python",
   "name": "python",
   "nbconvert_exporter": "python",
   "pygments_lexer": "ipython3",
   "version": "3.8.5"
  }
 },
 "nbformat": 4,
 "nbformat_minor": 4
}
